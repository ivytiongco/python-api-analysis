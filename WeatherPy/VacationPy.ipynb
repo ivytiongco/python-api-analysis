{
 "cells": [
  {
   "cell_type": "markdown",
   "metadata": {},
   "source": [
    "# VacationPy\n",
    "----\n",
    "\n",
    "#### Note\n",
    "* Instructions have been included for each segment. You do not have to follow them exactly, but they are included to help you think through the steps."
   ]
  },
  {
   "cell_type": "code",
   "execution_count": 2,
   "metadata": {},
   "outputs": [],
   "source": [
    "# Dependencies and Setup\n",
    "import matplotlib.pyplot as plt\n",
    "import pandas as pd\n",
    "import numpy as np\n",
    "import requests\n",
    "import gmaps\n",
    "import os\n",
    "\n",
    "# Import API key\n",
    "from api_config import g_key\n"
   ]
  },
  {
   "cell_type": "markdown",
   "metadata": {},
   "source": [
    "### Store Part I results into DataFrame\n",
    "* Load the csv exported in Part I to a DataFrame"
   ]
  },
  {
   "cell_type": "code",
   "execution_count": 3,
   "metadata": {},
   "outputs": [
    {
     "data": {
      "text/html": [
       "<div>\n",
       "<style scoped>\n",
       "    .dataframe tbody tr th:only-of-type {\n",
       "        vertical-align: middle;\n",
       "    }\n",
       "\n",
       "    .dataframe tbody tr th {\n",
       "        vertical-align: top;\n",
       "    }\n",
       "\n",
       "    .dataframe thead th {\n",
       "        text-align: right;\n",
       "    }\n",
       "</style>\n",
       "<table border=\"1\" class=\"dataframe\">\n",
       "  <thead>\n",
       "    <tr style=\"text-align: right;\">\n",
       "      <th></th>\n",
       "      <th>Unnamed: 0</th>\n",
       "      <th>City</th>\n",
       "      <th>Cloudiness</th>\n",
       "      <th>Country</th>\n",
       "      <th>Date</th>\n",
       "      <th>Humidity</th>\n",
       "      <th>Lat</th>\n",
       "      <th>Lng</th>\n",
       "      <th>Max Temp</th>\n",
       "      <th>Wind Speed</th>\n",
       "    </tr>\n",
       "  </thead>\n",
       "  <tbody>\n",
       "    <tr>\n",
       "      <th>0</th>\n",
       "      <td>0</td>\n",
       "      <td>Rikitea</td>\n",
       "      <td>5</td>\n",
       "      <td>PF</td>\n",
       "      <td>1584336617</td>\n",
       "      <td>79</td>\n",
       "      <td>-23.12</td>\n",
       "      <td>-134.97</td>\n",
       "      <td>79.47</td>\n",
       "      <td>11.25</td>\n",
       "    </tr>\n",
       "    <tr>\n",
       "      <th>1</th>\n",
       "      <td>1</td>\n",
       "      <td>Qaanaaq</td>\n",
       "      <td>100</td>\n",
       "      <td>GL</td>\n",
       "      <td>1584336617</td>\n",
       "      <td>47</td>\n",
       "      <td>77.48</td>\n",
       "      <td>-69.36</td>\n",
       "      <td>-0.98</td>\n",
       "      <td>7.20</td>\n",
       "    </tr>\n",
       "    <tr>\n",
       "      <th>2</th>\n",
       "      <td>2</td>\n",
       "      <td>Nikolskoye</td>\n",
       "      <td>90</td>\n",
       "      <td>RU</td>\n",
       "      <td>1584336617</td>\n",
       "      <td>80</td>\n",
       "      <td>59.70</td>\n",
       "      <td>30.79</td>\n",
       "      <td>34.00</td>\n",
       "      <td>22.37</td>\n",
       "    </tr>\n",
       "    <tr>\n",
       "      <th>3</th>\n",
       "      <td>3</td>\n",
       "      <td>Vaini</td>\n",
       "      <td>75</td>\n",
       "      <td>TO</td>\n",
       "      <td>1584336618</td>\n",
       "      <td>88</td>\n",
       "      <td>-21.20</td>\n",
       "      <td>-175.20</td>\n",
       "      <td>82.40</td>\n",
       "      <td>10.29</td>\n",
       "    </tr>\n",
       "    <tr>\n",
       "      <th>4</th>\n",
       "      <td>4</td>\n",
       "      <td>Port Alfred</td>\n",
       "      <td>99</td>\n",
       "      <td>ZA</td>\n",
       "      <td>1584336618</td>\n",
       "      <td>98</td>\n",
       "      <td>-33.59</td>\n",
       "      <td>26.89</td>\n",
       "      <td>63.00</td>\n",
       "      <td>3.00</td>\n",
       "    </tr>\n",
       "  </tbody>\n",
       "</table>\n",
       "</div>"
      ],
      "text/plain": [
       "   Unnamed: 0         City  Cloudiness Country        Date  Humidity    Lat  \\\n",
       "0           0      Rikitea           5      PF  1584336617        79 -23.12   \n",
       "1           1      Qaanaaq         100      GL  1584336617        47  77.48   \n",
       "2           2   Nikolskoye          90      RU  1584336617        80  59.70   \n",
       "3           3        Vaini          75      TO  1584336618        88 -21.20   \n",
       "4           4  Port Alfred          99      ZA  1584336618        98 -33.59   \n",
       "\n",
       "      Lng  Max Temp  Wind Speed  \n",
       "0 -134.97     79.47       11.25  \n",
       "1  -69.36     -0.98        7.20  \n",
       "2   30.79     34.00       22.37  \n",
       "3 -175.20     82.40       10.29  \n",
       "4   26.89     63.00        3.00  "
      ]
     },
     "execution_count": 3,
     "metadata": {},
     "output_type": "execute_result"
    }
   ],
   "source": [
    "cities_output_df = pd.read_csv(\"Cities_Output.csv\")\n",
    "cities_output_df.dropna()\n",
    "cities_output_df.head()"
   ]
  },
  {
   "cell_type": "markdown",
   "metadata": {},
   "source": [
    "### Humidity Heatmap\n",
    "* Configure gmaps.\n",
    "* Use the Lat and Lng as locations and Humidity as the weight.\n",
    "* Add Heatmap layer to map."
   ]
  },
  {
   "cell_type": "code",
   "execution_count": 4,
   "metadata": {},
   "outputs": [],
   "source": [
    "# Access maps with unique API key\n",
    "gmaps.configure(api_key=g_key)"
   ]
  },
  {
   "cell_type": "code",
   "execution_count": 5,
   "metadata": {},
   "outputs": [],
   "source": [
    "# Store latitude and longitude in locations\n",
    "locations = cities_output_df[[\"Lat\", \"Lng\"]]\n",
    "weight = cities_output_df[\"Humidity\"].astype(float)"
   ]
  },
  {
   "cell_type": "code",
   "execution_count": 6,
   "metadata": {},
   "outputs": [
    {
     "data": {
      "application/vnd.jupyter.widget-view+json": {
       "model_id": "2d495c9a89fa460c97c627f6748a3eab",
       "version_major": 2,
       "version_minor": 0
      },
      "text/plain": [
       "Figure(layout=FigureLayout(height='420px'))"
      ]
     },
     "metadata": {},
     "output_type": "display_data"
    }
   ],
   "source": [
    "# Plot Heatmap\n",
    "fig = gmaps.figure()\n",
    "\n",
    "# Create heat layer\n",
    "heat_layer = gmaps.heatmap_layer(locations, weights=weight, \n",
    "                                 dissipating=False, max_intensity=10,\n",
    "                                 point_radius=1)\n",
    "\n",
    "# Add layer\n",
    "fig.add_layer(heat_layer)\n",
    "\n",
    "# Display figure\n",
    "fig"
   ]
  },
  {
   "cell_type": "markdown",
   "metadata": {},
   "source": [
    "### Create new DataFrame fitting weather criteria\n",
    "* Narrow down the cities to fit weather conditions.\n",
    "* Drop any rows will null values."
   ]
  },
  {
   "cell_type": "code",
   "execution_count": 6,
   "metadata": {},
   "outputs": [
    {
     "data": {
      "text/html": [
       "<div>\n",
       "<style scoped>\n",
       "    .dataframe tbody tr th:only-of-type {\n",
       "        vertical-align: middle;\n",
       "    }\n",
       "\n",
       "    .dataframe tbody tr th {\n",
       "        vertical-align: top;\n",
       "    }\n",
       "\n",
       "    .dataframe thead th {\n",
       "        text-align: right;\n",
       "    }\n",
       "</style>\n",
       "<table border=\"1\" class=\"dataframe\">\n",
       "  <thead>\n",
       "    <tr style=\"text-align: right;\">\n",
       "      <th></th>\n",
       "      <th>Unnamed: 0</th>\n",
       "      <th>City</th>\n",
       "      <th>Cloudiness</th>\n",
       "      <th>Country</th>\n",
       "      <th>Date</th>\n",
       "      <th>Humidity</th>\n",
       "      <th>Lat</th>\n",
       "      <th>Lng</th>\n",
       "      <th>Max Temp</th>\n",
       "      <th>Wind Speed</th>\n",
       "    </tr>\n",
       "  </thead>\n",
       "  <tbody>\n",
       "    <tr>\n",
       "      <th>239</th>\n",
       "      <td>239</td>\n",
       "      <td>Ibrā’</td>\n",
       "      <td>0</td>\n",
       "      <td>OM</td>\n",
       "      <td>1584336681</td>\n",
       "      <td>46</td>\n",
       "      <td>22.69</td>\n",
       "      <td>58.53</td>\n",
       "      <td>73.24</td>\n",
       "      <td>6.46</td>\n",
       "    </tr>\n",
       "    <tr>\n",
       "      <th>336</th>\n",
       "      <td>336</td>\n",
       "      <td>Stann Creek Town</td>\n",
       "      <td>0</td>\n",
       "      <td>BZ</td>\n",
       "      <td>1584336706</td>\n",
       "      <td>93</td>\n",
       "      <td>16.97</td>\n",
       "      <td>-88.23</td>\n",
       "      <td>73.00</td>\n",
       "      <td>3.00</td>\n",
       "    </tr>\n",
       "    <tr>\n",
       "      <th>338</th>\n",
       "      <td>338</td>\n",
       "      <td>Ifanadiana</td>\n",
       "      <td>0</td>\n",
       "      <td>MG</td>\n",
       "      <td>1584336707</td>\n",
       "      <td>69</td>\n",
       "      <td>-21.30</td>\n",
       "      <td>47.63</td>\n",
       "      <td>75.87</td>\n",
       "      <td>1.21</td>\n",
       "    </tr>\n",
       "    <tr>\n",
       "      <th>365</th>\n",
       "      <td>365</td>\n",
       "      <td>Pokhara</td>\n",
       "      <td>0</td>\n",
       "      <td>NP</td>\n",
       "      <td>1584336713</td>\n",
       "      <td>27</td>\n",
       "      <td>28.23</td>\n",
       "      <td>83.98</td>\n",
       "      <td>77.76</td>\n",
       "      <td>4.07</td>\n",
       "    </tr>\n",
       "    <tr>\n",
       "      <th>391</th>\n",
       "      <td>391</td>\n",
       "      <td>Presidente Epitácio</td>\n",
       "      <td>0</td>\n",
       "      <td>BR</td>\n",
       "      <td>1584336719</td>\n",
       "      <td>88</td>\n",
       "      <td>-21.76</td>\n",
       "      <td>-52.12</td>\n",
       "      <td>72.34</td>\n",
       "      <td>2.84</td>\n",
       "    </tr>\n",
       "    <tr>\n",
       "      <th>483</th>\n",
       "      <td>483</td>\n",
       "      <td>Saquarema</td>\n",
       "      <td>0</td>\n",
       "      <td>BR</td>\n",
       "      <td>1584336744</td>\n",
       "      <td>83</td>\n",
       "      <td>-22.92</td>\n",
       "      <td>-42.51</td>\n",
       "      <td>78.80</td>\n",
       "      <td>4.70</td>\n",
       "    </tr>\n",
       "    <tr>\n",
       "      <th>501</th>\n",
       "      <td>501</td>\n",
       "      <td>Umluj</td>\n",
       "      <td>0</td>\n",
       "      <td>SA</td>\n",
       "      <td>1584336748</td>\n",
       "      <td>27</td>\n",
       "      <td>25.02</td>\n",
       "      <td>37.27</td>\n",
       "      <td>76.26</td>\n",
       "      <td>4.63</td>\n",
       "    </tr>\n",
       "  </tbody>\n",
       "</table>\n",
       "</div>"
      ],
      "text/plain": [
       "     Unnamed: 0                 City  Cloudiness Country        Date  \\\n",
       "239         239                Ibrā’           0      OM  1584336681   \n",
       "336         336     Stann Creek Town           0      BZ  1584336706   \n",
       "338         338           Ifanadiana           0      MG  1584336707   \n",
       "365         365              Pokhara           0      NP  1584336713   \n",
       "391         391  Presidente Epitácio           0      BR  1584336719   \n",
       "483         483            Saquarema           0      BR  1584336744   \n",
       "501         501                Umluj           0      SA  1584336748   \n",
       "\n",
       "     Humidity    Lat    Lng  Max Temp  Wind Speed  \n",
       "239        46  22.69  58.53     73.24        6.46  \n",
       "336        93  16.97 -88.23     73.00        3.00  \n",
       "338        69 -21.30  47.63     75.87        1.21  \n",
       "365        27  28.23  83.98     77.76        4.07  \n",
       "391        88 -21.76 -52.12     72.34        2.84  \n",
       "483        83 -22.92 -42.51     78.80        4.70  \n",
       "501        27  25.02  37.27     76.26        4.63  "
      ]
     },
     "execution_count": 6,
     "metadata": {},
     "output_type": "execute_result"
    }
   ],
   "source": [
    "hotel_df = cities_output_df[(cities_output_df['Max Temp'] > 70) &\n",
    "                            (cities_output_df['Max Temp'] < 80) &\n",
    "                            (cities_output_df['Wind Speed'] < 10) &\n",
    "                            (cities_output_df['Cloudiness'] == 0)\n",
    "                           ]\n",
    "hotel_df.dropna()\n",
    "hotel_df"
   ]
  },
  {
   "cell_type": "markdown",
   "metadata": {},
   "source": [
    "### Hotel Map\n",
    "* Store into variable named `hotel_df`.\n",
    "* Add a \"Hotel Name\" column to the DataFrame.\n",
    "* Set parameters to search for hotels with 5000 meters.\n",
    "* Hit the Google Places API for each city's coordinates.\n",
    "* Store the first Hotel result into the DataFrame.\n",
    "* Plot markers on top of the heatmap."
   ]
  },
  {
   "cell_type": "code",
   "execution_count": 8,
   "metadata": {},
   "outputs": [],
   "source": [
    "#hotel_df.loc[10, ] = \"\"\n",
    "#hotel_df"
   ]
  },
  {
   "cell_type": "code",
   "execution_count": 36,
   "metadata": {},
   "outputs": [
    {
     "name": "stdout",
     "output_type": "stream",
     "text": [
      "[]\n",
      "[]\n",
      "[]\n",
      "[]\n",
      "[]\n",
      "[]\n",
      "[]\n"
     ]
    }
   ],
   "source": [
    "# find the closest hotel to coordinates\n",
    "\n",
    "lat_lngs = []\n",
    "lat_lngs = zip(hotel_df['Lat'], hotel_df['Lng'])\n",
    "\n",
    "base_url = \"https://maps.googleapis.com/maps/api/place/nearbysearch/json\"\n",
    "params = {\n",
    "    \"location\": lat_lngs,\n",
    "    \"radius\": \"5000\",\n",
    "    \"type\": \"hotel\",\n",
    "    \"key\": g_key,\n",
    "}\n",
    "# use iterrows to iterate through pandas dataframe\n",
    "for index, row in hotel_df.iterrows():\n",
    "\n",
    "    # get hotel type from df\n",
    "#    hotel_name = row['Hotel Name']\n",
    "\n",
    "    # add keyword to params dict\n",
    "#    params['keyword'] = hotel_type\n",
    "\n",
    "    # assemble url and make API request\n",
    "#    print(f\"Retrieving Results for Index {index}: {restr_type}.\")\n",
    "    response = requests.get(base_url, params=params).json()\n",
    "    \n",
    "    # extract results\n",
    "    results = response['results']\n",
    "\n",
    "    print(results)\n",
    "    \n",
    "#    try:\n",
    "#    print(f\"First hotel within 5000 m of Ibrā’ is {results[0]['name']}.\")\n",
    "        \n",
    "#    hotel_df.loc[index, 'Hotel Name'] = results[0]['name']\n",
    "#        types_df.loc[index, 'address'] = results[0]['vicinity']\n",
    "#        types_df.loc[index, 'price_level'] = results[0]['price_level']\n",
    "#        types_df.loc[index, 'rating'] = results[0]['rating']\n",
    "        \n",
    "#    except (KeyError, IndexError):\n",
    "#        print(\"Missing field/result... skipping.\")\n",
    "        \n",
    "#    print(\"------------\")\n",
    "\n"
   ]
  },
  {
   "cell_type": "code",
   "execution_count": null,
   "metadata": {},
   "outputs": [],
   "source": [
    "\n"
   ]
  },
  {
   "cell_type": "code",
   "execution_count": 6,
   "metadata": {},
   "outputs": [
    {
     "ename": "NameError",
     "evalue": "name 'narrowed_city_df' is not defined",
     "output_type": "error",
     "traceback": [
      "\u001b[1;31m---------------------------------------------------------------------------\u001b[0m",
      "\u001b[1;31mNameError\u001b[0m                                 Traceback (most recent call last)",
      "\u001b[1;32m<ipython-input-6-f8dffc31712f>\u001b[0m in \u001b[0;36m<module>\u001b[1;34m\u001b[0m\n\u001b[0;32m     11\u001b[0m \u001b[1;31m# Store the DataFrame Row\u001b[0m\u001b[1;33m\u001b[0m\u001b[1;33m\u001b[0m\u001b[1;33m\u001b[0m\u001b[0m\n\u001b[0;32m     12\u001b[0m \u001b[1;31m# NOTE: be sure to update with your DataFrame name\u001b[0m\u001b[1;33m\u001b[0m\u001b[1;33m\u001b[0m\u001b[1;33m\u001b[0m\u001b[0m\n\u001b[1;32m---> 13\u001b[1;33m \u001b[0mhotel_info\u001b[0m \u001b[1;33m=\u001b[0m \u001b[1;33m[\u001b[0m\u001b[0minfo_box_template\u001b[0m\u001b[1;33m.\u001b[0m\u001b[0mformat\u001b[0m\u001b[1;33m(\u001b[0m\u001b[1;33m**\u001b[0m\u001b[0mrow\u001b[0m\u001b[1;33m)\u001b[0m \u001b[1;32mfor\u001b[0m \u001b[0mindex\u001b[0m\u001b[1;33m,\u001b[0m \u001b[0mrow\u001b[0m \u001b[1;32min\u001b[0m \u001b[0mnarrowed_city_df\u001b[0m\u001b[1;33m.\u001b[0m\u001b[0miterrows\u001b[0m\u001b[1;33m(\u001b[0m\u001b[1;33m)\u001b[0m\u001b[1;33m]\u001b[0m\u001b[1;33m\u001b[0m\u001b[1;33m\u001b[0m\u001b[0m\n\u001b[0m\u001b[0;32m     14\u001b[0m \u001b[0mlocations\u001b[0m \u001b[1;33m=\u001b[0m \u001b[0mhotel_df\u001b[0m\u001b[1;33m[\u001b[0m\u001b[1;33m[\u001b[0m\u001b[1;34m\"Lat\"\u001b[0m\u001b[1;33m,\u001b[0m \u001b[1;34m\"Lng\"\u001b[0m\u001b[1;33m]\u001b[0m\u001b[1;33m]\u001b[0m\u001b[1;33m\u001b[0m\u001b[1;33m\u001b[0m\u001b[0m\n",
      "\u001b[1;31mNameError\u001b[0m: name 'narrowed_city_df' is not defined"
     ]
    }
   ],
   "source": [
    "# NOTE: Do not change any of the code in this cell\n",
    "\n",
    "# Using the template add the hotel marks to the heatmap\n",
    "info_box_template = \"\"\"\n",
    "<dl>\n",
    "<dt>Name</dt><dd>{Hotel Name}</dd>\n",
    "<dt>City</dt><dd>{City}</dd>\n",
    "<dt>Country</dt><dd>{Country}</dd>\n",
    "</dl>\n",
    "\"\"\"\n",
    "# Store the DataFrame Row\n",
    "# NOTE: be sure to update with your DataFrame name\n",
    "hotel_info = [info_box_template.format(**row) for index, row in narrowed_city_df.iterrows()]\n",
    "locations = hotel_df[[\"Lat\", \"Lng\"]]"
   ]
  },
  {
   "cell_type": "code",
   "execution_count": null,
   "metadata": {},
   "outputs": [],
   "source": [
    "# Add marker layer ontop of heat map\n",
    "\n",
    "\n",
    "# Display Map"
   ]
  }
 ],
 "metadata": {
  "kernelspec": {
   "display_name": "Python [conda env:PythonData] *",
   "language": "python",
   "name": "conda-env-PythonData-py"
  },
  "language_info": {
   "codemirror_mode": {
    "name": "ipython",
    "version": 3
   },
   "file_extension": ".py",
   "mimetype": "text/x-python",
   "name": "python",
   "nbconvert_exporter": "python",
   "pygments_lexer": "ipython3",
   "version": "3.6.10"
  },
  "latex_envs": {
   "LaTeX_envs_menu_present": true,
   "autoclose": false,
   "autocomplete": true,
   "bibliofile": "biblio.bib",
   "cite_by": "apalike",
   "current_citInitial": 1,
   "eqLabelWithNumbers": true,
   "eqNumInitial": 1,
   "hotkeys": {
    "equation": "Ctrl-E",
    "itemize": "Ctrl-I"
   },
   "labels_anchors": false,
   "latex_user_defs": false,
   "report_style_numbering": false,
   "user_envs_cfg": false
  }
 },
 "nbformat": 4,
 "nbformat_minor": 2
}
